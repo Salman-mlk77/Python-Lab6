{
 "cells": [
  {
   "cell_type": "code",
   "execution_count": 17,
   "id": "68699ebd",
   "metadata": {},
   "outputs": [
    {
     "name": "stdout",
     "output_type": "stream",
     "text": [
      "Enter a phone number (10 digits): 5555555555\n",
      "The owner is ' Rawan '\n"
     ]
    }
   ],
   "source": [
    "phone_book = {\n",
    "    1111111111: \"Amal\",\n",
    "    2222222222: \"Mohammed\",\n",
    "    3333333333: \"Khadijah\",\n",
    "    4444444444: \"Abdullah\",\n",
    "    5555555555: \"Rawan\",\n",
    "    6666666666: \"Faisal\",\n",
    "    7777777777: \"Layla\"\n",
    "}\n",
    "\n",
    "number = int(input(\"Enter a phone number (10 digits): \"))\n",
    "\n",
    "if len(str(number)) != 10:\n",
    "    print(\"This is an invalid number\")\n",
    "elif number not in phone_book:\n",
    "        print('Sorry, the number is not found')\n",
    "elif number in phone_book:\n",
    "    print(\"The owner is '\",phone_book[number],\"'\")\n",
    "else:\n",
    "    print(\"Sorry, the number is not found\")\n"
   ]
  }
 ],
 "metadata": {
  "kernelspec": {
   "display_name": "Python 3 (ipykernel)",
   "language": "python",
   "name": "python3"
  },
  "language_info": {
   "codemirror_mode": {
    "name": "ipython",
    "version": 3
   },
   "file_extension": ".py",
   "mimetype": "text/x-python",
   "name": "python",
   "nbconvert_exporter": "python",
   "pygments_lexer": "ipython3",
   "version": "3.9.7"
  }
 },
 "nbformat": 4,
 "nbformat_minor": 5
}
